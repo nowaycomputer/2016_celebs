{
 "cells": [
  {
   "cell_type": "markdown",
   "metadata": {},
   "source": [
    "# Are more famous people dying in 2016 than in typical years? \n",
    "\n",
    "Is 2016 really worse than other years? \n",
    "\n",
    "More objectively - is there a reason why it seems like more famous people have.... *oh, literally as I was writing this, the news announced Carrie Fisher has gone...*\n",
    "\n",
    "**Idea 1:** The number of famous people is generally increasing and this has been happening for while now. That ever increasing number of celebrities is now feeding through into an increased number of older celebrities, whose deaths now **seem** to be over-represented but in fact is due to having an increased number of older celebrities who are disappearing at a normal rate"
   ]
  },
  {
   "cell_type": "markdown",
   "metadata": {},
   "source": [
    "# Let's Get Data\n",
    "Let's use beautiful soup to scrape some data from wikipedia and play with it."
   ]
  },
  {
   "cell_type": "code",
   "execution_count": null,
   "metadata": {
    "collapsed": true
   },
   "outputs": [],
   "source": [
    "# Import the libraries we need\n",
    "import string\n",
    "from bs4 import BeautifulSoup\n",
    "import pandas as pd\n",
    "import numpy as np\n",
    "import urllib\n",
    "import re\n",
    "import matplotlib.pyplot as plt\n",
    "#from datetime import timedelta\n",
    "import datetime as dt\n",
    "import sys\n",
    "from matplotlib.animation import FuncAnimation\n",
    "\n",
    "%matplotlib inline"
   ]
  },
  {
   "cell_type": "markdown",
   "metadata": {},
   "source": [
    "Let's see how bad it's been by scraping wikipedia's <a href='https://en.wikipedia.org/wiki/Deaths_in_2016'>2016 Death List</a>"
   ]
  },
  {
   "cell_type": "code",
   "execution_count": null,
   "metadata": {
    "collapsed": true
   },
   "outputs": [],
   "source": [
    "# A function to get a list of death dates from wikipedia's 'Death in 2016 Page'\n",
    "def get_2016_deaths():\n",
    "    ages_2016=[]\n",
    "    expr = re.compile('\\d+')\n",
    "    # Get the ages of 100 random people\n",
    "    with urllib.request.urlopen('https://en.wikipedia.org/wiki/Deaths_in_2016') as response:\n",
    "        soup = BeautifulSoup(response,'html5lib')\n",
    "        search = soup.findAll('li')\n",
    "        #search = soup.findAll('li', {'class' : 'new'})\n",
    "        for s in search:\n",
    "            if re.match(\"^[a-zA-Z]+.*\", s.text):\n",
    "                if(s.text[0].isalpha()):\n",
    "                    if(len(re.findall('\\d+', s.text))>0):\n",
    "                        if(int(re.findall('\\d+', s.text)[0])<120):\n",
    "                            ages_2016.append(int(re.findall('\\d+', s.text)[0]))\n",
    "    return ages_2016\n",
    "\n",
    "deaths_2016=get_2016_deaths()"
   ]
  },
  {
   "cell_type": "markdown",
   "metadata": {},
   "source": [
    "How are these distributed?"
   ]
  },
  {
   "cell_type": "code",
   "execution_count": null,
   "metadata": {
    "collapsed": false
   },
   "outputs": [],
   "source": [
    "s_2016 = pd.Series(deaths_2016)\n",
    "az=s_2016.hist(normed=True)\n",
    "az.set_xlabel('Age at Death')\n",
    "az.set_ylabel('No.')\n",
    "az.set_title('Distribution of ages of 2016 Deaths')"
   ]
  },
  {
   "cell_type": "markdown",
   "metadata": {},
   "source": [
    "What year were these people born? We can find this very easily:"
   ]
  },
  {
   "cell_type": "code",
   "execution_count": null,
   "metadata": {
    "collapsed": false
   },
   "outputs": [],
   "source": [
    "df_2016=pd.DataFrame(s_2016)\n",
    "df_2016['YoB']=2016-df_2016\n",
    "av=df_2016['YoB'].hist()\n",
    "av.set_xlabel('Year of Birth')\n",
    "av.set_ylabel('No.')\n",
    "av.set_title('Year Of Birth of 2016 Deaths')"
   ]
  },
  {
   "cell_type": "markdown",
   "metadata": {},
   "source": [
    "Offhand, the distribution doesn't look too surprising - maybe it's more an issue of quantity, as initially suspected"
   ]
  },
  {
   "cell_type": "markdown",
   "metadata": {},
   "source": [
    "# What is normal?\n",
    "\n",
    "Wikipedia also has pages for 'notable' people. As a first approximation, let's say that 'notable' ~ 'famous'. Even if this isn't true, a large enough random sample of notables should yield a random enough sample of celebrities within the notables. Surely!"
   ]
  },
  {
   "cell_type": "markdown",
   "metadata": {},
   "source": [
    "The function below will fetch n random 'notable' ages from wiki, but takes a while to run, I'd recommend using the CSV in the repo"
   ]
  },
  {
   "cell_type": "code",
   "execution_count": null,
   "metadata": {
    "collapsed": false
   },
   "outputs": [],
   "source": [
    "# Wikipedia lists 807,288 'Living Notable People'\n",
    "# MAY TAKE A WHILE TO RUN! YOU'LL BE FASTER LOADING A CSV IN \n",
    "# THE CELL BELOW!\n",
    "#\n",
    "def get_notables_from_wiki(n):\n",
    "    ages=[]\n",
    "    expr = re.compile('\\d+')\n",
    "    while (len(ages)<1000):\n",
    "    # Get the ages of 100 random people\n",
    "        with urllib.request.urlopen('https://en.wikipedia.org/wiki/Special:RandomInCategory/Living_people') as response:\n",
    "            soup = BeautifulSoup(response,'html5lib')\n",
    "            # Use BF to find the span with the age value\n",
    "            spans = soup.find_all('span', {'class' : 'noprint ForceAgeToShow'})\n",
    "            if(spans):\n",
    "                # Find the age - the number - '\\d+' in regex, and store)\n",
    "                ages.append(int(re.findall('\\d+', spans[0].text)[0]))\n",
    "    print('Complete: fetched 1000 ages')\n",
    "    # Create a pandas series to store the ages\n",
    "    s = pd.Series(ages)\n",
    "    # Write out the ages to a csv to avoid loading up wikipedia in future\n",
    "    s.to_csv('random_wiki_ages.csv', sep=',')\n",
    "    return ages"
   ]
  },
  {
   "cell_type": "markdown",
   "metadata": {},
   "source": [
    "Load the randomly selected ages of notables and put them into a pandas data frame and have a look at the distribution of the ages:"
   ]
  },
  {
   "cell_type": "code",
   "execution_count": null,
   "metadata": {
    "collapsed": false
   },
   "outputs": [],
   "source": [
    "df_wiki = pd.read_csv('random_wiki_ages_1.csv',names=['index', 'Age'])\n",
    "ax = df_wiki['Age'].hist()\n",
    "ax.set_xlabel(\"Age\")\n",
    "ax.set_ylabel(\"No.\")\n",
    "ax.set_title(\"Ages of random 'Living Notable' people\")"
   ]
  },
  {
   "cell_type": "markdown",
   "metadata": {
    "collapsed": true
   },
   "source": [
    "As guessed - there are a lot more 'young' notables, though it's worth noting(!) that while this could be as a result of an ever increasing number of famous people, the following effects will also be in play:\n",
    "\n",
    "**a)** few famous children (fame typically comes when you do something I suppose)\n",
    "\n",
    "**b)** inevitably, older people are more likely to die, so there will be a 'natural' drop off in 'Living' notables\n",
    "\n",
    "Let's look at when they were born:"
   ]
  },
  {
   "cell_type": "code",
   "execution_count": null,
   "metadata": {
    "collapsed": false
   },
   "outputs": [],
   "source": [
    "df_wiki['YoB']=2016-df_wiki['Age']\n",
    "ay=df_wiki['YoB'].hist()\n",
    "ay.set_xlabel('Year of Birth')\n",
    "ay.set_ylabel('No.')\n",
    "ay.set_title(\"Year of birth of random 'Notable Living' people\")"
   ]
  },
  {
   "cell_type": "markdown",
   "metadata": {},
   "source": [
    "Since we've got a list of **living** notables, we probably need to know how likely it is that a notable born in X year is alive today.\n",
    "\n",
    "Let's get some life expectancy data. I've used <a href='http://visual.ons.gov.uk/how-has-life-expectancy-changed-over-time/'>UK life expectancy from the ONS</a> as an approximation for the notables from wiki. Possibly a poor approximation, but we'll see"
   ]
  },
  {
   "cell_type": "code",
   "execution_count": null,
   "metadata": {
    "collapsed": false
   },
   "outputs": [],
   "source": [
    "from datetime import datetime\n",
    "df_life_ex = pd.read_csv('life_expectancy_1841-20111.csv')\n",
    "df_life_ex.dropna(inplace=True)\n",
    "df_life_ex['Census year'] = df_life_ex['Census year'].apply(lambda d: datetime.strptime(d, \"%Y\"))\n",
    "df_life_ex.index = df_life_ex['Census year']\n",
    "ay = df_life_ex['Male'].plot()\n",
    "ay.plot(df_life_ex['Female'])\n",
    "ay.set_ylabel('UK Life Expectancy')\n",
    "ay.legend(loc='upper left')\n",
    "ay.set_title('Life Expectancy in the UK')"
   ]
  },
  {
   "cell_type": "markdown",
   "metadata": {},
   "source": [
    "Life expectancy looks like you'd expect - a signficant increase starting around 1900, with the advent of modern medicine, antibiotics etc and a more gradual increase since the 1950's as medical technology continues to knock off ailments.\n",
    "\n",
    "The data I have however is based on census data recorded very 10 years - lets re-sample our dataset and interpolate the values for each year:"
   ]
  },
  {
   "cell_type": "code",
   "execution_count": null,
   "metadata": {
    "collapsed": false
   },
   "outputs": [],
   "source": [
    "df_life_ex=df_life_ex.resample('AS').asfreq()\n",
    "df_life_ex = df_life_ex.interpolate(method='linear', axis=0).ffill().bfill()\n",
    "# Let's take the average of male and female\n",
    "df_life_ex['ave']=(df_life_ex['Male']+df_life_ex['Female'])/2\n",
    "df_life_ex.drop('Years spanned',axis=1,inplace=True)\n",
    "df_life_ex.columns=['Year','Male','Female','ave']\n",
    "ab=df_life_ex['ave'].plot()\n",
    "ab.set_xlabel('Year')\n",
    "ab.set_ylabel('No.')\n",
    "ab.set_title('Mean (Male/Female) UK Life Expectancy')"
   ]
  },
  {
   "cell_type": "markdown",
   "metadata": {},
   "source": [
    "# How many of the 2016 Deaths could we have 'expected' based on these life expectancy numbers?"
   ]
  },
  {
   "cell_type": "markdown",
   "metadata": {},
   "source": [
    "Let's start by looking at the year of birth for everyone who died in 2016 and calculate the year we would have expected them to die, based on the life expectancy in the year they were born:"
   ]
  },
  {
   "cell_type": "code",
   "execution_count": null,
   "metadata": {
    "collapsed": false
   },
   "outputs": [],
   "source": [
    "df_2016['YoB']=df_2016['YoB'].astype(str)\n",
    "df_2016['YoB'] = df_2016['YoB'].apply(lambda d: datetime.strptime(d, \"%Y\"))\n",
    "df_2016.index = df_2016['YoB']\n",
    "df_2016.columns=['Age_at_death','YoB']\n",
    "\n",
    "df_2016['life_ex']=df_life_ex['ave'].astype(int)\n",
    "df_2016['exp YoD']=df_2016['YoB'] + df_2016['life_ex'].values.astype(\"timedelta64[Y]\")\n"
   ]
  },
  {
   "cell_type": "code",
   "execution_count": null,
   "metadata": {
    "collapsed": false
   },
   "outputs": [],
   "source": [
    "n_bins=int((max(df_2016['exp YoD'])-min(df_2016['exp YoD'])).days/365)\n",
    "ap=df_2016['exp YoD'].hist(bins=n_bins)\n",
    "ap.set_xlabel('Predicted Year of Death')\n",
    "ap.set_ylabel('No.')\n",
    "ap.set_title('Predicted Distribution (based on life exp) of 2016 Deaths')\n",
    "ap.axvline(x=datetime.strptime('2016-01-01', \"%Y-%m-%d\"),color='k', linestyle='--')"
   ]
  },
  {
   "cell_type": "markdown",
   "metadata": {},
   "source": [
    "This plot shows the distribution of which years the 2016 deaths would have occurred, had they matched the life expectancy of the year they were born"
   ]
  },
  {
   "cell_type": "code",
   "execution_count": null,
   "metadata": {
    "collapsed": false
   },
   "outputs": [],
   "source": [
    "aq=df_2016['exp YoD'].value_counts().sort_index(ascending=True).cumsum().plot()\n",
    "aq.set_ylabel('Cumulative No.')\n",
    "aq.set_xlabel('Expected Year of Death')\n",
    "aq.set_title('Cumulative expected deaths of actual 2016 deaths')"
   ]
  },
  {
   "cell_type": "markdown",
   "metadata": {},
   "source": [
    "Remember that this plot is **theoretical** - it's describing what we would have **expected** to see, not what actually happened.\n",
    "\n",
    "How does this compare with previous years?"
   ]
  },
  {
   "cell_type": "code",
   "execution_count": null,
   "metadata": {
    "collapsed": false
   },
   "outputs": [],
   "source": [
    "# A function to get a list of death dates from wikipedia's 'Death in \n",
    "# XXXX Page - returns a list of ages at death\n",
    "def get_year_deaths(year):\n",
    "    ages=[]\n",
    "    months = []\n",
    "    # Get a list of months\n",
    "    for i in range(1,13):\n",
    "        months.append((dt.date(2016, i, 1).strftime('%B')))\n",
    "    expr = re.compile('\\d+')\n",
    "    \n",
    "    # For each month\n",
    "    for m in months:\n",
    "        with urllib.request.urlopen('https://en.wikipedia.org/wiki/Deaths_in_'+m+'_'+str(year)) as response:\n",
    "            soup = BeautifulSoup(response,'html5lib')\n",
    "            data = soup.findAll('div',attrs={'class':'mw-content-ltr'})\n",
    "            for div in data:\n",
    "                search = div.findAll('li')\n",
    "                for s in search:\n",
    "                    if re.match(\"^[a-zA-Z]+.*\", s.text):\n",
    "                        if(s.text[0].isalpha()):\n",
    "                            if(len(re.findall('\\d+', s.text))>0):\n",
    "                                if(int(re.findall('\\d+', s.text)[0])<120):\n",
    "                                    ages.append(int(re.findall('\\d+', s.text)[0]))\n",
    "    return ages"
   ]
  },
  {
   "cell_type": "code",
   "execution_count": null,
   "metadata": {
    "collapsed": false
   },
   "outputs": [],
   "source": [
    "deaths_2015=get_year_deaths(2015)"
   ]
  },
  {
   "cell_type": "code",
   "execution_count": null,
   "metadata": {
    "collapsed": false
   },
   "outputs": [],
   "source": [
    "s_2015 = pd.Series(deaths_2015)\n",
    "n_bins=int((max(s_2015)-min(s_2015)))\n",
    "az=s_2015.hist(normed=True,bins=n_bins)\n",
    "az.set_xlabel('Age at Death')\n",
    "az.set_ylabel('No.')\n",
    "az.set_title('Distribution of ages of 2015 Deaths')"
   ]
  },
  {
   "cell_type": "code",
   "execution_count": null,
   "metadata": {
    "collapsed": false
   },
   "outputs": [],
   "source": [
    "deaths_2014=get_year_deaths(2014)"
   ]
  },
  {
   "cell_type": "code",
   "execution_count": null,
   "metadata": {
    "collapsed": false
   },
   "outputs": [],
   "source": [
    "s_2014 = pd.Series(deaths_2014)\n",
    "n_bins=int((max(s_2014)-min(s_2014)))\n",
    "az=s_2014.hist(normed=True,bins=n_bins)\n",
    "az.set_xlabel('Age at Death')\n",
    "az.set_ylabel('No.')\n",
    "az.set_title('Distribution of ages of 2014 Deaths')"
   ]
  },
  {
   "cell_type": "code",
   "execution_count": null,
   "metadata": {
    "collapsed": false
   },
   "outputs": [],
   "source": [
    "deaths_2016_all=get_year_deaths(2016)"
   ]
  },
  {
   "cell_type": "code",
   "execution_count": null,
   "metadata": {
    "collapsed": false
   },
   "outputs": [],
   "source": [
    "s_2016_all = pd.Series(deaths_2016_all)\n",
    "n_bins=int((max(s_2016_all)-min(s_2016_all)))\n",
    "az=s_2016_all.hist(normed=True,bins=n_bins)\n",
    "az.set_xlabel('Age at Death')\n",
    "az.set_ylabel('No.')\n",
    "az.set_title('Distribution of ages of 2016 Deaths')"
   ]
  },
  {
   "cell_type": "code",
   "execution_count": null,
   "metadata": {
    "collapsed": false
   },
   "outputs": [],
   "source": [
    "deaths_2013=get_year_deaths(2013)"
   ]
  },
  {
   "cell_type": "code",
   "execution_count": null,
   "metadata": {
    "collapsed": false
   },
   "outputs": [],
   "source": [
    "s_2013 = pd.Series(deaths_2013)\n",
    "n_bins=int((max(s_2013)-min(s_2013)))\n",
    "az=s_2013.hist(normed=True,bins=n_bins)\n",
    "az.set_xlabel('Age at Death')\n",
    "az.set_ylabel('No.')\n",
    "az.set_title('Distribution of ages of 2013 Deaths')"
   ]
  },
  {
   "cell_type": "code",
   "execution_count": null,
   "metadata": {
    "collapsed": true
   },
   "outputs": [],
   "source": [
    "deaths_2012=get_year_deaths(2012)"
   ]
  },
  {
   "cell_type": "code",
   "execution_count": null,
   "metadata": {
    "collapsed": false
   },
   "outputs": [],
   "source": [
    "s_2012 = pd.Series(deaths_2012)\n",
    "n_bins=int((max(s_2012)-min(s_2012)))\n",
    "az=s_2012.hist(normed=True,bins=n_bins)\n",
    "az.set_xlabel('Age at Death')\n",
    "az.set_ylabel('No.')\n",
    "az.set_title('Distribution of ages of 2012 Deaths')"
   ]
  },
  {
   "cell_type": "code",
   "execution_count": null,
   "metadata": {
    "collapsed": true
   },
   "outputs": [],
   "source": [
    "deaths_2011=get_year_deaths(2011)"
   ]
  },
  {
   "cell_type": "code",
   "execution_count": null,
   "metadata": {
    "collapsed": false
   },
   "outputs": [],
   "source": [
    "s_2011 = pd.Series(deaths_2011)\n",
    "n_bins=int((max(s_2011)-min(s_2011)))\n",
    "az=s_2011.hist(normed=True,bins=n_bins)\n",
    "az.set_xlabel('Age at Death')\n",
    "az.set_ylabel('No.')\n",
    "az.set_title('Distribution of ages of 2011 Deaths')"
   ]
  },
  {
   "cell_type": "code",
   "execution_count": null,
   "metadata": {
    "collapsed": true
   },
   "outputs": [],
   "source": [
    "deaths_2010=get_year_deaths(2010)"
   ]
  },
  {
   "cell_type": "code",
   "execution_count": null,
   "metadata": {
    "collapsed": false
   },
   "outputs": [],
   "source": [
    "s_2010 = pd.Series(deaths_2010)\n",
    "n_bins=int((max(s_2010)-min(s_2010)))\n",
    "az=s_2010.hist(normed=True,bins=n_bins)\n",
    "az.set_xlabel('Age at Death')\n",
    "az.set_ylabel('No.')\n",
    "az.set_title('Distribution of ages of 2010 Deaths')"
   ]
  },
  {
   "cell_type": "code",
   "execution_count": null,
   "metadata": {
    "collapsed": false
   },
   "outputs": [],
   "source": [
    "\n",
    "bins = np.linspace(min(s_2010),max(s_2010), int((max(s_2010)-min(s_2010))))\n",
    "#bins = np.linspace(20,60, 40)\n",
    "\n",
    "\n",
    "#plt.hist(s_2010, bins, alpha=0.2, label='2010')\n",
    "#plt.hist(s_2011, bins, alpha=0.2, label='2011')\n",
    "#plt.hist(s_2012, bins, alpha=0.2, label='2012')\n",
    "#plt.hist(s_2013, bins, alpha=0.2, label='2013')\n",
    "plt.hist(s_2014, bins, alpha=0.1, label='2014')\n",
    "plt.hist(s_2015, bins, alpha=0.1, label='2015')\n",
    "plt.hist(s_2016_all, bins, alpha=0.1, label='2016')\n",
    "plt.legend(loc='upper left')\n",
    "plt.show()"
   ]
  },
  {
   "cell_type": "code",
   "execution_count": null,
   "metadata": {
    "collapsed": false
   },
   "outputs": [],
   "source": [
    "# Two subplots, unpack the axes array immediately\n",
    "f, (ax0,ax1, ax2,ax3) = plt.subplots(1, 4, sharey=True)\n",
    "ax0.hist(s_2013, bins, alpha=0.5, label='2013',normed=1)\n",
    "ax0.set_title('2013')\n",
    "ax1.hist(s_2014, bins, alpha=0.5, label='2014',normed=1)\n",
    "ax1.set_title('2014')\n",
    "ax2.hist(s_2015, bins, alpha=0.5, label='2015',normed=1)\n",
    "ax2.set_title('2015')\n",
    "ax3.hist(s_2016_all, bins, alpha=0.5, label='2016',normed=1)\n",
    "ax3.set_title('2016')"
   ]
  },
  {
   "cell_type": "code",
   "execution_count": null,
   "metadata": {
    "collapsed": false
   },
   "outputs": [],
   "source": [
    "#bins = np.linspace(min(s_2010),max(s_2010), int((max(s_2010)-min(s_2010))))\n",
    "bins = np.linspace(20,70, 50)\n",
    "\n",
    "ax1 = plt.subplot(311)\n",
    "plt.hist(s_2013, bins, alpha=0.5, label='2013',normed=1)\n",
    "plt.setp(ax1.get_xticklabels(), visible=False)\n",
    "ax2 = plt.subplot(312, sharex=ax1)\n",
    "\n",
    "\n",
    "plt.hist(s_2014, bins, alpha=0.5, label='2014',normed=1)\n",
    "ax3 = plt.subplot(313, sharex=ax1, sharey=ax1,label='2014')\n",
    "\n",
    "\n",
    "plt.setp(ax2.get_xticklabels(), visible=False)\n",
    "\n",
    "plt.hist(s_2015, bins, alpha=0.5, label='2015',normed=1)\n",
    "plt.legend(loc='upper left')\n"
   ]
  },
  {
   "cell_type": "code",
   "execution_count": null,
   "metadata": {
    "collapsed": false
   },
   "outputs": [],
   "source": [
    "aq=s_2010.value_counts().sort_index(ascending=True).cumsum().plot(label='2010')\n",
    "aq.plot(s_2011.value_counts().sort_index(ascending=True).cumsum(),label='2011')\n",
    "aq.plot(s_2012.value_counts().sort_index(ascending=True).cumsum(),label='2012')\n",
    "aq.plot(s_2013.value_counts().sort_index(ascending=True).cumsum(),label='2013')\n",
    "aq.plot(s_2014.value_counts().sort_index(ascending=True).cumsum(),label='2014')\n",
    "aq.plot(s_2015.value_counts().sort_index(ascending=True).cumsum(),label='2015')\n",
    "aq.plot(s_2016.value_counts().sort_index(ascending=True).cumsum(),'--',linewidth=2,label='2016')\n",
    "plt.legend(loc='upper left')\n",
    "aq.set_xlabel('Age at Death')\n",
    "aq.set_ylabel('Cumulative Number')\n",
    "aq.set_title('Cumulative Number of Celebrity Deaths by Age')\n",
    "#plt.xlim([40,70])\n",
    "#plt.ylim([250,1750])"
   ]
  },
  {
   "cell_type": "code",
   "execution_count": null,
   "metadata": {
    "collapsed": false
   },
   "outputs": [],
   "source": [
    "s_2005 = pd.Series(get_year_deaths(2005))\n",
    "s_2006 = pd.Series(get_year_deaths(2006))\n",
    "s_2007 = pd.Series(get_year_deaths(2007))\n",
    "s_2008 = pd.Series(get_year_deaths(2008))\n",
    "s_2009 = pd.Series(get_year_deaths(2009))\n",
    "s_2010 = pd.Series(get_year_deaths(2010))\n",
    "s_2011 = pd.Series(get_year_deaths(2011))\n",
    "s_2012 = pd.Series(get_year_deaths(2012))\n",
    "s_2013 = pd.Series(get_year_deaths(2013))\n",
    "s_2014 = pd.Series(get_year_deaths(2014))\n",
    "s_2015 = pd.Series(get_year_deaths(2015))\n",
    "s_2016 = pd.Series(get_year_deaths(2016))"
   ]
  },
  {
   "cell_type": "code",
   "execution_count": null,
   "metadata": {
    "collapsed": true
   },
   "outputs": [],
   "source": [
    "norm_2005=s_2005.value_counts().sort_index(ascending=True).cumsum()/len(s_2005)\n",
    "norm_2006=s_2006.value_counts().sort_index(ascending=True).cumsum()/len(s_2006)\n",
    "norm_2007=s_2007.value_counts().sort_index(ascending=True).cumsum()/len(s_2007)\n",
    "norm_2008=s_2008.value_counts().sort_index(ascending=True).cumsum()/len(s_2008)\n",
    "norm_2009=s_2009.value_counts().sort_index(ascending=True).cumsum()/len(s_2009)\n",
    "norm_2010=s_2010.value_counts().sort_index(ascending=True).cumsum()/len(s_2010)\n",
    "norm_2011=s_2011.value_counts().sort_index(ascending=True).cumsum()/len(s_2011)\n",
    "norm_2012=s_2012.value_counts().sort_index(ascending=True).cumsum()/len(s_2012)\n",
    "norm_2013=s_2013.value_counts().sort_index(ascending=True).cumsum()/len(s_2013)\n",
    "norm_2014=s_2014.value_counts().sort_index(ascending=True).cumsum()/len(s_2014)\n",
    "norm_2015=s_2015.value_counts().sort_index(ascending=True).cumsum()/len(s_2015)\n",
    "norm_2016=s_2016.value_counts().sort_index(ascending=True).cumsum()/len(s_2016)"
   ]
  },
  {
   "cell_type": "code",
   "execution_count": null,
   "metadata": {
    "collapsed": false
   },
   "outputs": [],
   "source": [
    "aq=norm_2005.plot(label='2005')\n",
    "aq.plot(norm_2006,label='2006')\n",
    "aq.plot(norm_2007,label='2007')\n",
    "aq.plot(norm_2008,label='2008')\n",
    "aq.plot(norm_2009,label='2009')\n",
    "aq.plot(norm_2010,label='2010')\n",
    "aq.plot(norm_2011,label='2011')\n",
    "aq.plot(norm_2012,label='2012')\n",
    "aq.plot(norm_2013,label='2013')\n",
    "aq.plot(norm_2014,label='2014')\n",
    "aq.plot(norm_2015,label='2015')\n",
    "aq.plot(norm_2016,'--',linewidth=2,label='2016')\n",
    "plt.legend(loc='upper left',ncol=2,fontsize=10)\n",
    "aq.set_xlabel('Age at Death')\n",
    "aq.set_ylabel('Cum. Fraction of Deaths - Normalised')\n",
    "aq.set_title('Cumulative Celebrity Deaths By Age')\n",
    "\n",
    "plt.xlim([20,65])\n",
    "plt.ylim([0,0.35])"
   ]
  },
  {
   "cell_type": "code",
   "execution_count": null,
   "metadata": {
    "collapsed": false
   },
   "outputs": [],
   "source": [
    "# aq=s_2001.value_counts().sort_index(ascending=True).cumsum().plot(label='2001')\n",
    "# aq.plot(s_2002.value_counts().sort_index(ascending=True).cumsum(),label='2002')\n",
    "# aq.plot(s_2003.value_counts().sort_index(ascending=True).cumsum(),label='2003')\n",
    "# aq.plot(s_2004.value_counts().sort_index(ascending=True).cumsum(),label='2004')\n",
    "aq=s_2004.value_counts().sort_index(ascending=True).cumsum().plot(label='2004')\n",
    "aq.plot(s_2005.value_counts().sort_index(ascending=True).cumsum(),label='2005')\n",
    "aq.plot(s_2006.value_counts().sort_index(ascending=True).cumsum(),label='2006')\n",
    "aq.plot(s_2007.value_counts().sort_index(ascending=True).cumsum(),label='2007')\n",
    "aq.plot(s_2008.value_counts().sort_index(ascending=True).cumsum(),label='2008')\n",
    "aq.plot(s_2009.value_counts().sort_index(ascending=True).cumsum(),label='2009')\n",
    "aq.plot(s_2010.value_counts().sort_index(ascending=True).cumsum(),label='2010')\n",
    "aq.plot(s_2011.value_counts().sort_index(ascending=True).cumsum(),label='2011')\n",
    "aq.plot(s_2012.value_counts().sort_index(ascending=True).cumsum(),label='2012')\n",
    "aq.plot(s_2013.value_counts().sort_index(ascending=True).cumsum(),label='2013')\n",
    "aq.plot(s_2014.value_counts().sort_index(ascending=True).cumsum(),label='2014')\n",
    "aq.plot(s_2015.value_counts().sort_index(ascending=True).cumsum(),label='2015')\n",
    "aq.plot(s_2016_all.value_counts().sort_index(ascending=True).cumsum(),'--',linewidth=2,label='2016')\n",
    "plt.legend(loc='upper left',ncol=2,fontsize=10)\n",
    "aq.set_xlabel('Age at Death')\n",
    "aq.set_ylabel('Cumulative Number of Deaths')\n",
    "\n",
    "\n",
    "plt.xlim([40,65])\n",
    "plt.ylim([0,1500])"
   ]
  },
  {
   "cell_type": "code",
   "execution_count": null,
   "metadata": {
    "collapsed": false
   },
   "outputs": [],
   "source": [
    "datas=[]\n",
    "datas.append(s_2001)\n",
    "datas.append(s_2002)\n",
    "# datas.append(s_2003)\n",
    "# datas.append(s_2004)\n",
    "# datas.append(s_2005)\n",
    "# datas.append(s_2006)\n",
    "# datas.append(s_2007)\n",
    "# datas.append(s_2008)\n",
    "# datas.append(s_2009)\n",
    "# datas.append(s_2010)\n",
    "# datas.append(s_2011)\n",
    "# datas.append(s_2012)\n",
    "# datas.append(s_2013)\n",
    "# datas.append(s_2014)\n",
    "# datas.append(s_2015)\n",
    "# datas.append(s_2016_all)"
   ]
  },
  {
   "cell_type": "code",
   "execution_count": null,
   "metadata": {
    "collapsed": false
   },
   "outputs": [],
   "source": [
    "s_2005=pd.Series(get_year_deaths(2005))"
   ]
  },
  {
   "cell_type": "code",
   "execution_count": null,
   "metadata": {
    "collapsed": false
   },
   "outputs": [],
   "source": [
    "len(s_2005)"
   ]
  },
  {
   "cell_type": "code",
   "execution_count": null,
   "metadata": {
    "collapsed": false
   },
   "outputs": [],
   "source": [
    "norm_2005=s_2005.value_counts().sort_index(ascending=True).cumsum()/len(s_2005)\n",
    "norm_2005.plot()"
   ]
  },
  {
   "cell_type": "code",
   "execution_count": null,
   "metadata": {
    "collapsed": false
   },
   "outputs": [],
   "source": [
    "len(s_2005)"
   ]
  },
  {
   "cell_type": "code",
   "execution_count": null,
   "metadata": {
    "collapsed": false
   },
   "outputs": [],
   "source": [
    "s_2016 = pd.Series(get_year_deaths(2016))"
   ]
  },
  {
   "cell_type": "code",
   "execution_count": null,
   "metadata": {
    "collapsed": true
   },
   "outputs": [],
   "source": []
  }
 ],
 "metadata": {
  "kernelspec": {
   "display_name": "messing",
   "language": "python",
   "name": "myenv"
  },
  "language_info": {
   "codemirror_mode": {
    "name": "ipython",
    "version": 3
   },
   "file_extension": ".py",
   "mimetype": "text/x-python",
   "name": "python",
   "nbconvert_exporter": "python",
   "pygments_lexer": "ipython3",
   "version": "3.5.2"
  }
 },
 "nbformat": 4,
 "nbformat_minor": 2
}
